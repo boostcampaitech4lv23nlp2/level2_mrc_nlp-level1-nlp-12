{
 "cells": [
  {
   "cell_type": "code",
   "execution_count": null,
   "metadata": {},
   "outputs": [],
   "source": [
    "import matplotlib.pyplot \n",
    "import torch\n",
    "from omegaconf import OmegaConf\n",
    "from pytorch_lightning.callbacks import RichProgressBar\n",
    "\n",
    "from data_n import *\n",
    "from r_roberta import *\n",
    "\n",
    "cfg = OmegaConf.load(f\"/opt/ml/code/pl/config/r_roberta.yaml\")\n",
    "\n",
    "pl.seed_everything(cfg.train.seed, workers=True)\n",
    "\n",
    "# dataloader와 model을 생성합니다.\n",
    "dataloader = Dataloader(\n",
    "    cfg.model.model_name,\n",
    "    cfg.train.batch_size,\n",
    "    cfg.data.shuffle,\n",
    "    cfg.path.train_path,\n",
    "    cfg.path.test_path,\n",
    "    cfg.train.seed,\n",
    ")\n",
    "model = Model(cfg)\n",
    "\n",
    "# gpu가 없으면 'gpus=0'을, gpu가 여러개면 'gpus=4'처럼 사용하실 gpu의 개수를 입력해주세요\n",
    "trainer = pl.Trainer(\n",
    "    precision=16,\n",
    "    accelerator=\"gpu\",\n",
    "    devices=1,\n",
    "    max_epochs=cfg.train.max_epoch,\n",
    "    callbacks=[RichProgressBar()],\n",
    "    auto_lr_find=True,\n",
    "    # deterministic=True,\n",
    "    # limit_train_batches=0.15,  # use only 30% of training data\n",
    "    # limit_val_batches = 0.01, # use only 1% of val data\n",
    "    # limit_train_batches=10    # use only 10 batches of training data\n",
    ")\n",
    "\n",
    "lr_finder = trainer.tuner.lr_find(model=model,datamodule=dataloader, num_training=300)\n",
    "lr_finder.results\n",
    "\n",
    "fig = lr_finder.plot(suggest=True)\n",
    "\n",
    "new_lr = lr_finder.suggestion()\n",
    "print('new_lr :',new_lr)\n",
    "\n",
    "fig.show()"
   ]
  }
 ],
 "metadata": {
  "kernelspec": {
   "display_name": "JD",
   "language": "python",
   "name": "python3"
  },
  "language_info": {
   "name": "python",
   "version": "3.8.15 (default, Nov 24 2022, 15:19:38) \n[GCC 11.2.0]"
  },
  "orig_nbformat": 4,
  "vscode": {
   "interpreter": {
    "hash": "dba86cc73008d5f1d8a6885f9a0f63a201551cce12214e1aced350b8e19d3d66"
   }
  }
 },
 "nbformat": 4,
 "nbformat_minor": 2
}
